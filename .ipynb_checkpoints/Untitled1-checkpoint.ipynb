{
 "cells": [
  {
   "cell_type": "code",
   "execution_count": 4,
   "metadata": {},
   "outputs": [
    {
     "data": {
      "text/plain": [
       "[[-1, 1],\n",
       " [-1, 1],\n",
       " [-1, 1],\n",
       " [-1, 1],\n",
       " [-1, 1],\n",
       " [-1, 1],\n",
       " [-1, 1],\n",
       " [-1, 1],\n",
       " [-1, 1],\n",
       " [-1, 1],\n",
       " [-1, 1],\n",
       " [-1, 1],\n",
       " [-1, 1],\n",
       " [-1, 1],\n",
       " [-1, 1],\n",
       " [-1, 1],\n",
       " [-1, 1],\n",
       " [-1, 1],\n",
       " [-1, 1]]"
      ]
     },
     "execution_count": 4,
     "metadata": {},
     "output_type": "execute_result"
    }
   ],
   "source": [
    "bounds = []\n",
    "for i in range(1,20):\n",
    "    bounds +=[[-1,1]]\n",
    "    bounds +=[[-0,0]]\n",
    "bounds"
   ]
  },
  {
   "cell_type": "code",
   "execution_count": null,
   "metadata": {},
   "outputs": [],
   "source": []
  },
  {
   "cell_type": "code",
   "execution_count": null,
   "metadata": {},
   "outputs": [],
   "source": []
  },
  {
   "cell_type": "code",
   "execution_count": null,
   "metadata": {},
   "outputs": [],
   "source": []
  },
  {
   "cell_type": "code",
   "execution_count": null,
   "metadata": {},
   "outputs": [],
   "source": []
  },
  {
   "cell_type": "code",
   "execution_count": null,
   "metadata": {},
   "outputs": [],
   "source": []
  }
 ],
 "metadata": {
  "kernelspec": {
   "display_name": "Python 3",
   "language": "python",
   "name": "python3"
  },
  "language_info": {
   "codemirror_mode": {
    "name": "ipython",
    "version": 3
   },
   "file_extension": ".py",
   "mimetype": "text/x-python",
   "name": "python",
   "nbconvert_exporter": "python",
   "pygments_lexer": "ipython3",
   "version": "3.7.6"
  }
 },
 "nbformat": 4,
 "nbformat_minor": 4
}
