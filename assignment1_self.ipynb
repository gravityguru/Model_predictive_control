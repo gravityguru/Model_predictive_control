{
 "cells": [
  {
   "cell_type": "code",
   "execution_count": 1,
   "metadata": {},
   "outputs": [],
   "source": [
    "import numpy as np\n",
    "import sys\n",
    "sys.path.insert(0, 'E:\\git_wroks\\MPC_gurunayk')\n",
    "from sim.sim1d import sim_run\n",
    "\n",
    "# Simulator options.\n",
    "options = {}\n",
    "options['FIG_SIZE'] = [8,8]\n",
    "options['FULL_RECALCULATE'] = False # To increase the Speed of calculation on Computer\n",
    "steering = 0\n",
    "\n"
   ]
  },
  {
   "cell_type": "code",
   "execution_count": null,
   "metadata": {},
   "outputs": [],
   "source": []
  },
  {
   "cell_type": "code",
   "execution_count": null,
   "metadata": {},
   "outputs": [],
   "source": []
  },
  {
   "cell_type": "code",
   "execution_count": null,
   "metadata": {},
   "outputs": [],
   "source": []
  },
  {
   "cell_type": "code",
   "execution_count": null,
   "metadata": {},
   "outputs": [],
   "source": [
    "class ModelPredictiveControl:\n",
    "    def __init__(self):\n",
    "        self.horizon = 20\n",
    "        self.dt = 0.2\n",
    "\n",
    "        # Reference or set point the controller will achieve.\n",
    "        self.reference = [50, 0, 0]\n",
    "        \n",
    "\n",
    "    def plant_model(self, prev_state, dt, pedal, steering):\n",
    "        a_t = pedal\n",
    "        x_t = prev_state[0] # Only one dimensional\n",
    "        v_t = prev_state[3] # m/s\n",
    "        x_dot = v_t\n",
    "        v_dot = a_t\n",
    "\n",
    "        x_t_1 = x_t + v_t*dt # x_t Present state, x_t_1 is next state\n",
    "        v_t_1 = v_t + a_t*dt - v_t/25.0 # v_t/25 is air friction model\n",
    "\n",
    "\n",
    "        return [x_t_1, 0, 0, v_t_1] # Resturnibng Only the next state and x direction velocity,\n",
    "                                    # not Resturning the y_t_1 and psi_t_1 (steering)\n",
    "\n",
    "    def cost_function(self,u, *args):\n",
    "        cost = 0;\n",
    "        ref = args[1]  # [x_t_1, 0, 0, v_t_1]0 in this array it will resa the ref postion [50, 0, 0]\n",
    "\n",
    "        pedal_list = []\n",
    "        for k in range(self.horizon):\n",
    "            x_current = self.plant_model(pedal_list[k])\n",
    "\n",
    "        cost = abs(x_current - self.reference[0])\n",
    "\n",
    "        state = args[0]\n",
    "        \n",
    "        # cost = 0.0\n",
    "        return cost\n",
    "\n"
   ]
  },
  {
   "cell_type": "code",
   "execution_count": null,
   "metadata": {},
   "outputs": [],
   "source": [
    "sim_run(options, ModelPredictiveControl)\n"
   ]
  },
  {
   "cell_type": "code",
   "execution_count": null,
   "metadata": {},
   "outputs": [],
   "source": []
  },
  {
   "cell_type": "code",
   "execution_count": null,
   "metadata": {},
   "outputs": [],
   "source": []
  },
  {
   "cell_type": "code",
   "execution_count": null,
   "metadata": {},
   "outputs": [],
   "source": []
  },
  {
   "cell_type": "code",
   "execution_count": null,
   "metadata": {},
   "outputs": [],
   "source": []
  },
  {
   "cell_type": "code",
   "execution_count": null,
   "metadata": {},
   "outputs": [],
   "source": []
  },
  {
   "cell_type": "code",
   "execution_count": null,
   "metadata": {},
   "outputs": [],
   "source": []
  },
  {
   "cell_type": "code",
   "execution_count": null,
   "metadata": {},
   "outputs": [],
   "source": []
  },
  {
   "cell_type": "code",
   "execution_count": null,
   "metadata": {},
   "outputs": [],
   "source": []
  },
  {
   "cell_type": "code",
   "execution_count": null,
   "metadata": {},
   "outputs": [],
   "source": []
  },
  {
   "cell_type": "code",
   "execution_count": null,
   "metadata": {},
   "outputs": [],
   "source": []
  },
  {
   "cell_type": "code",
   "execution_count": null,
   "metadata": {},
   "outputs": [],
   "source": []
  },
  {
   "cell_type": "code",
   "execution_count": null,
   "metadata": {},
   "outputs": [],
   "source": []
  },
  {
   "cell_type": "code",
   "execution_count": null,
   "metadata": {},
   "outputs": [],
   "source": []
  },
  {
   "cell_type": "code",
   "execution_count": null,
   "metadata": {},
   "outputs": [],
   "source": []
  }
 ],
 "metadata": {
  "kernelspec": {
   "display_name": "Python 3",
   "language": "python",
   "name": "python3"
  },
  "language_info": {
   "codemirror_mode": {
    "name": "ipython",
    "version": 3
   },
   "file_extension": ".py",
   "mimetype": "text/x-python",
   "name": "python",
   "nbconvert_exporter": "python",
   "pygments_lexer": "ipython3",
   "version": "3.7.6"
  }
 },
 "nbformat": 4,
 "nbformat_minor": 4
}
